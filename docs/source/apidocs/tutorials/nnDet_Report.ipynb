{
 "cells": [
  {
   "cell_type": "markdown",
   "id": "e49ea4ce",
   "metadata": {
    "ExecuteTime": {
     "end_time": "2023-09-07T06:47:47.841915600Z",
     "start_time": "2023-09-07T06:47:47.839908400Z"
    }
   },
   "source": [
    "# nnDetection Summary Report"
   ]
  },
  {
   "cell_type": "code",
   "execution_count": 8,
   "id": "8e785c67",
   "metadata": {},
   "outputs": [],
   "source": [
    "import pandas as pd\n",
    "import seaborn as sns\n",
    "from pathlib import Path"
   ]
  },
  {
   "cell_type": "markdown",
   "id": "37be8ff4-614b-42a9-9069-c411e11dc049",
   "metadata": {},
   "source": [
    "## Read Experiment Tables "
   ]
  },
  {
   "cell_type": "markdown",
   "id": "b1cbad7d",
   "metadata": {},
   "source": [
    "Read Experiment Tables and concatenate them in one single Pandas DataFrame. In the ``experiments`` Dict, the keys represent the Experiment names, with the values indicating the labels to be used in the plots."
   ]
  },
  {
   "cell_type": "code",
   "execution_count": 10,
   "id": "99ec32775b175443",
   "metadata": {
    "ExecuteTime": {
     "end_time": "2023-09-03T15:57:06.573841400Z",
     "start_time": "2023-09-03T15:57:06.517323200Z"
    }
   },
   "outputs": [],
   "source": [
    "class_name = \"LYMPHOMA\"\n",
    "experiments = {\n",
    "        \"Task106_AutoPET_nnDet_3D_fullres\":\"Retina U-Net\",\n",
    "        \"Task107_AutoPET_nnDet_3D_fullres_BT\": \"Retina U-Net + BT\",\n",
    "        \"Task108_AutoPET_nnDet_3D_fullres_SE\": \"Retina U-Net + SE\",\n",
    "        \"Task109_AutoPET_nnDet_3D_fullres_SEBT\": \"Retina U-Net + BT + SE\"\n",
    "}\n",
    "\n",
    "results_folder = \"<RESULT_FOLDER>\"\n",
    "df_list = []\n",
    "for experiment in experiments:\n",
    "    temp_df = pd.read_excel(Path(results_folder).joinpath(f\"{experiment}.xlsx\"),index_col=0,\n",
    "                            #sheet_name=f\"Object Detection-{class_name}\"\n",
    "                            sheet_name=f\"Object Detection\"\n",
    "                           )\n",
    "    temp_df[\"Experiment\"]= experiments[experiment]\n",
    "    df_list.append(temp_df)\n",
    "\n",
    "df = pd.concat(df_list,ignore_index=True)"
   ]
  },
  {
   "cell_type": "markdown",
   "id": "7530ebe3",
   "metadata": {},
   "source": [
    "## Plot for Object Detection Metric"
   ]
  },
  {
   "cell_type": "code",
   "execution_count": 11,
   "id": "28933678",
   "metadata": {},
   "outputs": [],
   "source": [
    "metric = \"mAP_IoU_0.10_0.50_0.05_MaxDet_100\" "
   ]
  },
  {
   "cell_type": "code",
   "execution_count": 23,
   "id": "b7b85b1e",
   "metadata": {
    "ExecuteTime": {
     "end_time": "2023-09-03T15:57:10.090322600Z",
     "start_time": "2023-09-03T15:57:09.901603300Z"
    }
   },
   "outputs": [
    {
     "name": "stdout",
     "output_type": "stream",
     "text": [
      "| Experiment             |   Score |\n",
      "|:-----------------------|--------:|\n",
      "| Retina U-Net           |   0.44  |\n",
      "| Retina U-Net + BT      |   0.483 |\n",
      "| Retina U-Net + BT + SE |   0.473 |\n",
      "| Retina U-Net + SE      |   0.462 |\n"
     ]
    },
    {
     "data": {
      "text/plain": [
       "[Text(0.5, 0, 'Experiment'), Text(0, 0.5, 'mAP'), Text(0.5, 1.0, 'Global mAP')]"
      ]
     },
     "execution_count": 23,
     "metadata": {},
     "output_type": "execute_result"
    },
    {
     "data": {
      "image/png": "[encoded data removed]",
      "text/plain": [
       "<Figure size 640x480 with 1 Axes>"
      ]
     },
     "metadata": {},
     "output_type": "display_data"
    }
   ],
   "source": [
    "print(df[df[\"Metric\"]==metric][[\"Score\",\"Experiment\"]].groupby(\"Experiment\").mean().round(3).to_markdown())\n",
    "\n",
    "#ax = sns.boxplot(df[df[\"Metric\"]==metric][[\"Score\",\"Experiment\"]],x=\"Experiment\",y=\"Score\",palette=\"deep\")\n",
    "\n",
    "ax = sns.barplot(df[df[\"Metric\"]==metric],x=\"Experiment\",y=\"Score\",palette=\"deep\")\n",
    "\n",
    "ax.set(xlabel='Experiment',\n",
    "       ylabel='mAP',\n",
    "       title='Global mAP')\n"
   ]
  },
  {
   "cell_type": "markdown",
   "id": "ec8c3b2e",
   "metadata": {},
   "source": [
    "## Evaluate Statistical Significance of Results"
   ]
  },
  {
   "cell_type": "markdown",
   "id": "d764ce59",
   "metadata": {},
   "source": [
    "Compute *paired t-test*, given the specified *p-value*. ``pre_experiment`` and ``post_experiment`` are used to specify the tested experiments."
   ]
  },
  {
   "cell_type": "code",
   "execution_count": 15,
   "id": "36264c88",
   "metadata": {},
   "outputs": [],
   "source": [
    "p_value = 0.05\n",
    "\n",
    "pre_experiment = \"Retina U-Net + SE\"\n",
    "post_experiment = \"Retina U-Net + BT + SE\""
   ]
  },
  {
   "cell_type": "code",
   "execution_count": 16,
   "id": "81a9f238",
   "metadata": {
    "ExecuteTime": {
     "end_time": "2023-09-03T15:00:46.235489700Z",
     "start_time": "2023-09-03T15:00:46.220272100Z"
    }
   },
   "outputs": [],
   "source": [
    "import scipy.stats as stats"
   ]
  },
  {
   "cell_type": "code",
   "execution_count": 18,
   "id": "bdbee7f0",
   "metadata": {
    "ExecuteTime": {
     "end_time": "2023-09-03T15:01:55.135289200Z",
     "start_time": "2023-09-03T15:01:55.109527100Z"
    }
   },
   "outputs": [],
   "source": [
    "pre = df[(df[\"Metric\"]==metric) & (df[\"Experiment\"]== pre_experiment)]\n",
    "\n",
    "post = df[(df[\"Metric\"]==metric) & (df[\"Experiment\"]== post_experiment)]"
   ]
  },
  {
   "cell_type": "code",
   "execution_count": 37,
   "id": "87fc9371",
   "metadata": {
    "ExecuteTime": {
     "end_time": "2023-09-03T15:01:56.260019800Z",
     "start_time": "2023-09-03T15:01:56.236722100Z"
    }
   },
   "outputs": [
    {
     "name": "stdout",
     "output_type": "stream",
     "text": [
      "H0 mAP_IoU_0.10_0.50_0.05_MaxDet_100[Retina U-Net + SE = Retina U-Net + BT + SE]: True\n"
     ]
    }
   ],
   "source": [
    "significant = stats.ttest_rel(pre[\"Score\"].values, post[\"Score\"].values).pvalue < p_value\n",
    "\n",
    "print(\"H0 {}[{} = {}]: {}\".format(metric,pre_experiment,post_experiment, not significant))"
   ]
  },
  {
   "cell_type": "markdown",
   "id": "92fb6f90-4b70-4f96-a028-624595015c48",
   "metadata": {},
   "source": [
    "## Segmentation"
   ]
  },
  {
   "cell_type": "code",
   "execution_count": 46,
   "id": "c1a61ac9-e98d-454d-bfbf-1d72c13788ef",
   "metadata": {},
   "outputs": [],
   "source": [
    "experiments = {\n",
    "        \"Task106_AutoPET_nnDet_3D_fullres\":\"Retina U-Net\",\n",
    "        \"Task107_AutoPET_nnDet_3D_fullres_BT\": \"Retina U-Net + BT\",\n",
    "        \"Task108_AutoPET_nnDet_3D_fullres_SE\": \"Retina U-Net + SE\",\n",
    "        \"Task109_AutoPET_nnDet_3D_fullres_SEBT\": \"Retina U-Net + BT + SE\"\n",
    "}\n",
    "\n",
    "results_folder = \"<RESULT_FOLDER>\"\n",
    "df_list = []\n",
    "for experiment in experiments:\n",
    "    temp_df = pd.read_excel(Path(results_folder).joinpath(f\"{experiment}.xlsx\"),index_col=0,\n",
    "                            #sheet_name=f\"Object Detection-{class_name}\"\n",
    "                            sheet_name=f\"Segmentation\"\n",
    "                           )\n",
    "    temp_df[\"Experiment\"]= experiments[experiment]\n",
    "    df_list.append(temp_df)\n",
    "\n",
    "df = pd.concat(df_list,ignore_index=True)"
   ]
  },
  {
   "cell_type": "code",
   "execution_count": 39,
   "id": "940c2e2c-dab2-4a00-ba13-09e75fa7a41c",
   "metadata": {},
   "outputs": [
    {
     "name": "stdout",
     "output_type": "stream",
     "text": [
      "| Experiment             |    Score |\n",
      "|:-----------------------|---------:|\n",
      "| Retina U-Net           | 0.649185 |\n",
      "| Retina U-Net + BT      | 0.643724 |\n",
      "| Retina U-Net + BT + SE | 0.608784 |\n",
      "| Retina U-Net + SE      | 0.585995 |\n"
     ]
    }
   ],
   "source": [
    "print(df.groupby(\"Experiment\")[\"Score\"].mean().to_markdown())"
   ]
  },
  {
   "cell_type": "markdown",
   "id": "4eb1096a",
   "metadata": {},
   "source": [
    "## Evaluate Statistical Significance of Segmentation Results"
   ]
  },
  {
   "cell_type": "code",
   "execution_count": 43,
   "id": "74dc87eb",
   "metadata": {},
   "outputs": [],
   "source": [
    "p_value = 0.05\n",
    "\n",
    "pre_experiment = \"Retina U-Net + SE\"\n",
    "post_experiment = \"Retina U-Net + BT\""
   ]
  },
  {
   "cell_type": "code",
   "execution_count": 44,
   "id": "f12158f1",
   "metadata": {},
   "outputs": [],
   "source": [
    "pre = df[df[\"Experiment\"]==pre_experiment].dropna()\n",
    "\n",
    "post = df[df[\"Experiment\"]==post_experiment].dropna()"
   ]
  },
  {
   "cell_type": "code",
   "execution_count": 45,
   "id": "b18bd23f-a705-4302-a323-ff775ee2e5c6",
   "metadata": {},
   "outputs": [
    {
     "name": "stdout",
     "output_type": "stream",
     "text": [
      "H0 Dice[Retina U-Net + SE = Retina U-Net + BT]: False\n"
     ]
    }
   ],
   "source": [
    "significant = stats.ttest_rel(pre[\"Score\"].values, post[\"Score\"].values).pvalue < 0.05\n",
    "\n",
    "print(\"H0 {}[{} = {}]: {}\".format(\"Dice\",pre_experiment,post_experiment, not significant))"
   ]
  }
 ],
 "metadata": {
  "kernelspec": {
   "display_name": "Python 3 (ipykernel)",
   "language": "python",
   "name": "python3"
  },
  "language_info": {
   "codemirror_mode": {
    "name": "ipython",
    "version": 3
   },
   "file_extension": ".py",
   "mimetype": "text/x-python",
   "name": "python",
   "nbconvert_exporter": "python",
   "pygments_lexer": "ipython3",
   "version": "3.11.4"
  }
 },
 "nbformat": 4,
 "nbformat_minor": 5
}
