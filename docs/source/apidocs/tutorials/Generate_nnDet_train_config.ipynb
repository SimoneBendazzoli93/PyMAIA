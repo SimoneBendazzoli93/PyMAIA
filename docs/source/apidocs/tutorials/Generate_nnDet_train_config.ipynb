{
 "cells": [
  {
   "cell_type": "markdown",
   "source": [
    "# Create nnDetection Training Config File"
   ],
   "metadata": {
    "collapsed": false
   },
   "id": "bd8dee691c45c89c"
  },
  {
   "cell_type": "markdown",
   "source": [
    "Tutorial to learn how to create a YAML nnDetection Training Configuration file, customizing the training parameters"
   ],
   "metadata": {
    "collapsed": false
   },
   "id": "bbe4b80e7807d158"
  },
  {
   "cell_type": "code",
   "execution_count": null,
   "outputs": [],
   "source": [
    "from hydra import initialize_config_module\n",
    "from nndet.utils.config import compose\n",
    "import json\n",
    "import os\n",
    "from pathlib import Path\n",
    "from omegaconf.omegaconf import OmegaConf"
   ],
   "metadata": {
    "collapsed": false
   },
   "id": "3b1288fffd04f1fc"
  },
  {
   "cell_type": "code",
   "execution_count": 3,
   "id": "e19b2969",
   "metadata": {},
   "outputs": [
    {
     "data": {
      "text/plain": [
       "hydra.initialize_config_module()"
      ]
     },
     "execution_count": 3,
     "metadata": {},
     "output_type": "execute_result"
    }
   ],
   "source": [
    "initialize_config_module(config_module=\"nndet.conf\", version_base=\"1.1\")"
   ]
  },
  {
   "cell_type": "markdown",
   "source": [
    "## Read Experiment Configuration"
   ],
   "metadata": {
    "collapsed": false
   },
   "id": "1ab03ab755775b41"
  },
  {
   "cell_type": "code",
   "execution_count": 25,
   "id": "86e5886f",
   "metadata": {},
   "outputs": [],
   "source": [
    "config_file = \"<CONFIG_FILE>\"\n",
    "\n",
    "with open(config_file) as json_file:\n",
    "    data = json.load(json_file)"
   ]
  },
  {
   "cell_type": "markdown",
   "source": [
    "Set Initial Configuration, Task ID and nnDet environment variables"
   ],
   "metadata": {
    "collapsed": false
   },
   "id": "1b18785c426b0a09"
  },
  {
   "cell_type": "code",
   "execution_count": 26,
   "id": "7a253c78",
   "metadata": {},
   "outputs": [],
   "source": [
    "config_filename = \"config_AutoPET.yaml\"\n",
    "task = \"101\"\n",
    "ov = [\"exp.fold=0\"]\n",
    "\n",
    "\n",
    "os.environ[\"det_data\"] = data[\"base_folder\"]\n",
    "os.environ[\"det_models\"] = data[\"results_folder\"]\n",
    "os.environ[\"global_postprocessing_folder\"] = data[\"preprocessing_folder\"]\n"
   ]
  },
  {
   "cell_type": "code",
   "execution_count": 27,
   "id": "b8267fc6",
   "metadata": {},
   "outputs": [],
   "source": [
    "cfg = compose(task, config_filename, overrides=ov if ov is not None else [])"
   ]
  },
  {
   "cell_type": "markdown",
   "source": [
    "## Customize Configuration"
   ],
   "metadata": {
    "collapsed": false
   },
   "id": "9e93fb3f9c8a2e32"
  },
  {
   "cell_type": "markdown",
   "source": [
    "Set Global Pre-processing folder to train multiple experiments from the same pre-processing folder"
   ],
   "metadata": {
    "collapsed": false
   },
   "id": "9ac188daddc958c6"
  },
  {
   "cell_type": "code",
   "execution_count": 28,
   "id": "a5f1490d",
   "metadata": {},
   "outputs": [],
   "source": [
    "cfg.host[\"preprocessed_output_dir\"] = os.environ[\"global_preprocessing_folder\"]"
   ]
  },
  {
   "cell_type": "markdown",
   "source": [
    "Set Augmentation Parameters:"
   ],
   "metadata": {
    "collapsed": false
   },
   "id": "b422859ebba59cf3"
  },
  {
   "cell_type": "markdown",
   "source": [
    "  ```python\n",
    "[\n",
    "     'name',\n",
    "     'transforms',\n",
    "     'transforms_kwargs',\n",
    "     'selected_data_channels',\n",
    "     'selected_seg_channels',\n",
    "     'p_eldef',\n",
    "     'do_elastic',\n",
    "     'elastic_deform_alpha',\n",
    "     'elastic_deform_sigma',\n",
    "     'p_scale',\n",
    "     'do_scaling',\n",
    "     'scale_range',\n",
    "     'independent_scale_factor_for_each_axis',\n",
    "     'p_rot',\n",
    "     'do_rotation',\n",
    "     'rotation_x',\n",
    "     'rotation_y',\n",
    "     'rotation_z',\n",
    "     'order_data',\n",
    "     'border_mode_data',\n",
    "     'border_cval_data',\n",
    "     'order_seg',\n",
    "     'border_cval_seg',\n",
    "     'border_mode_seg',\n",
    "     'random_crop',\n",
    "     'random_crop_dist_to_border',\n",
    "     'p_gamma',\n",
    "     'do_gamma',\n",
    "     'gamma_retain_stats',\n",
    "     'gamma_range',\n",
    "     'do_mirror',\n",
    "     'mirror_axes',\n",
    "     'do_additive_brightness',\n",
    "     'additive_brightness_p_per_sample',\n",
    "     'additive_brightness_p_per_channel',\n",
    "     'additive_brightness_mu',\n",
    "     'additive_brightness_sigma',\n",
    "     '2d_overwrites'\n",
    "]"
   ],
   "metadata": {
    "collapsed": false
   },
   "id": "44d092871ded8c02"
  },
  {
   "cell_type": "code",
   "execution_count": 1,
   "outputs": [
    {
     "ename": "NameError",
     "evalue": "name 'cfg' is not defined",
     "output_type": "error",
     "traceback": [
      "\u001B[1;31m---------------------------------------------------------------------------\u001B[0m",
      "\u001B[1;31mNameError\u001B[0m                                 Traceback (most recent call last)",
      "Cell \u001B[1;32mIn[1], line 1\u001B[0m\n\u001B[1;32m----> 1\u001B[0m cfg\u001B[38;5;241m.\u001B[39maugmentation\n",
      "\u001B[1;31mNameError\u001B[0m: name 'cfg' is not defined"
     ]
    }
   ],
   "source": [
    "cfg.augmentation"
   ],
   "metadata": {
    "collapsed": false,
    "ExecuteTime": {
     "end_time": "2023-09-07T07:40:50.438162500Z",
     "start_time": "2023-09-07T07:40:49.899201100Z"
    }
   },
   "id": "f878a2441f5d827b"
  },
  {
   "cell_type": "markdown",
   "source": [
    "Set Data Loader Parameters:"
   ],
   "metadata": {
    "collapsed": false
   },
   "id": "d7d8fe808a8ed936"
  },
  {
   "cell_type": "markdown",
   "source": [
    " ```python\n",
    "[\n",
    "     'augmentation',\n",
    "     'num_train_batches_per_epoch',\n",
    "     'num_val_batches_per_epoch',\n",
    "     'dataloader',\n",
    "     'oversample_foreground_percent',\n",
    "     'dataloader_kwargs',\n",
    "     'num_threads',\n",
    "     'num_cached_per_thread',\n",
    "     'multiprocessing',\n",
    "     'batch_size',\n",
    "     'patch_size'\n",
    "]"
   ],
   "metadata": {
    "collapsed": false
   },
   "id": "c7d2cce71fefdaf4"
  },
  {
   "cell_type": "code",
   "execution_count": null,
   "outputs": [],
   "source": [
    "cfg.augment_cfg"
   ],
   "metadata": {
    "collapsed": false
   },
   "id": "f6e12a5ef80b001f"
  },
  {
   "cell_type": "markdown",
   "source": [
    "Set Trainer Parameters:"
   ],
   "metadata": {
    "collapsed": false
   },
   "id": "a3e07660a95f942"
  },
  {
   "cell_type": "markdown",
   "source": [
    " ```python\n",
    "[\n",
    "     'gpus',\n",
    "     'accelerator',\n",
    "     'strategy',\n",
    "     'precision',\n",
    "     'amp_backend',\n",
    "     'amp_level',\n",
    "     'deterministic',\n",
    "     'benchmark',\n",
    "     'monitor_key',\n",
    "     'monitor_mode',\n",
    "     'max_num_epochs',\n",
    "     'num_train_batches_per_epoch',\n",
    "     'num_val_batches_per_epoch',\n",
    "     'initial_lr',\n",
    "     'sgd_momentum',\n",
    "     'sgd_nesterov',\n",
    "     'weight_decay',\n",
    "     'warm_iterations',\n",
    "     'warm_lr',\n",
    "     'poly_gamma',\n",
    "     'swa_epochs'\n",
    "]\n",
    "```"
   ],
   "metadata": {
    "collapsed": false
   },
   "id": "c6c0a48297f26305"
  },
  {
   "cell_type": "markdown",
   "source": [
    "Set Model Parameters :"
   ],
   "metadata": {
    "collapsed": false
   },
   "id": "4fb15b8becd54c3d"
  },
  {
   "cell_type": "markdown",
   "source": [
    "  ```python\n",
    "[\n",
    "     'encoder_kwargs',\n",
    "     'decoder_kwargs',\n",
    "     'head_kwargs',\n",
    "     'head_classifier_kwargs',\n",
    "     'head_regressor_kwargs',\n",
    "     'head_sampler_kwargs',\n",
    "     'segmenter_kwargs',\n",
    "     'matcher_kwargs',\n",
    "     'plan_arch_overwrites',\n",
    "     'plan_anchors_overwrites'\n",
    "]"
   ],
   "metadata": {
    "collapsed": false
   },
   "id": "5916fbd1d5dbf515"
  },
  {
   "cell_type": "code",
   "execution_count": 29,
   "id": "1c28e99d",
   "metadata": {},
   "outputs": [],
   "source": [
    "OmegaConf.save(cfg, str(Path(os.getcwd()) / \"custom_config.yaml\"), resolve=True)"
   ]
  },
  {
   "cell_type": "code",
   "execution_count": null,
   "id": "2a03203f",
   "metadata": {},
   "outputs": [],
   "source": []
  }
 ],
 "metadata": {
  "kernelspec": {
   "display_name": "Python 3 (ipykernel)",
   "language": "python",
   "name": "python3"
  },
  "language_info": {
   "codemirror_mode": {
    "name": "ipython",
    "version": 3
   },
   "file_extension": ".py",
   "mimetype": "text/x-python",
   "name": "python",
   "nbconvert_exporter": "python",
   "pygments_lexer": "ipython3",
   "version": "3.8.10"
  }
 },
 "nbformat": 4,
 "nbformat_minor": 5
}
